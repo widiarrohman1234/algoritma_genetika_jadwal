{
 "cells": [
  {
   "cell_type": "code",
   "execution_count": 1,
   "metadata": {},
   "outputs": [],
   "source": [
    "import random"
   ]
  },
  {
   "cell_type": "code",
   "execution_count": 2,
   "metadata": {},
   "outputs": [],
   "source": [
    "# Data konfigurasi\n",
    "HARI = ['Senin', 'Selasa', 'Rabu', 'Kamis', 'Jumat']\n",
    "PELAJARAN = ['Metodologi Riset dan Penulisan Ilmiah', 'Komunikasi dan Jaringan Komputer', 'Kecerdasan Buatan', 'Pembelajaran dan Perhitungan Evolusioner', 'Praktikum Pembelajaran dan Perhitungan Evolusioner', 'Sinyal dan Sistem']\n",
    "DOSEN = ['Firman Arifin', 'Iwan Syarif', 'Aliridho Barakbah', 'Riyanto Sigit', 'Riyanto Sigit', 'Tri Budi Santoso']\n",
    "WAKTU = ['08:00 sd 09:40','09:40 sd 10:30', '10:30 sd 12:10', '13:10 sd 15:40','15:40 sd 16:30']\n",
    "KELAS = ['PS-03.17', 'PS-08.07',]\n"
   ]
  },
  {
   "cell_type": "code",
   "execution_count": 3,
   "metadata": {},
   "outputs": [],
   "source": [
    "# Parameter algoritma genetika\n",
    "POPULASI_SIZE = 50\n",
    "GENERASI_MAX = 200\n",
    "MUTASI_RATE = 0.1"
   ]
  },
  {
   "cell_type": "code",
   "execution_count": 4,
   "metadata": {},
   "outputs": [
    {
     "name": "stdout",
     "output_type": "stream",
     "text": [
      "6 2\n"
     ]
    }
   ],
   "source": [
    "# Representasi individu (jadwal)\n",
    "def buat_individu():\n",
    "    return [\n",
    "        {\n",
    "            \"dosen\": random.choice(DOSEN),\n",
    "            \"kelas\": random.choice(KELAS),\n",
    "            \"pelajaran\": random.choice(PELAJARAN),\n",
    "            \"waktu\": random.choice(WAKTU),\n",
    "            \"hari\": random.choice(HARI),\n",
    "        }\n",
    "        for _ in range(len(PELAJARAN) * len(KELAS))\n",
    "        # for _ in range(len(HARI) * len(WAKTU))\n",
    "    ]\n",
    "print(len(PELAJARAN), len(KELAS))"
   ]
  },
  {
   "cell_type": "code",
   "execution_count": 5,
   "metadata": {},
   "outputs": [],
   "source": [
    "# # Evaluasi fitness (menghitung jumlah konflik)\n",
    "# def evaluasi_fitness(individu):\n",
    "#     konflik = 0\n",
    "#     for i, jadwal1 in enumerate(individu):\n",
    "#         for j, jadwal2 in enumerate(individu):\n",
    "#             if i >= j:\n",
    "#                 continue\n",
    "#             # Konflik waktu di kelas yang sama\n",
    "#             if jadwal1[\"kelas\"] == jadwal2[\"kelas\"] and jadwal1[\"waktu\"] == jadwal2[\"waktu\"]:\n",
    "#                 konflik += 1\n",
    "#             # Konflik dosen pada waktu yang sama\n",
    "#             if jadwal1[\"dosen\"] == jadwal2[\"dosen\"] and jadwal1[\"waktu\"] == jadwal2[\"waktu\"]:\n",
    "#                 konflik += 1\n",
    "#     return -konflik"
   ]
  },
  {
   "cell_type": "code",
   "execution_count": 6,
   "metadata": {},
   "outputs": [],
   "source": [
    "# Evaluasi fitness (menghitung jumlah konflik)\n",
    "def evaluasi_fitness(individu):\n",
    "    konflik = 0\n",
    "    for i, jadwal1 in enumerate(individu):\n",
    "        for j, jadwal2 in enumerate(individu):\n",
    "            if i >= j:\n",
    "                continue\n",
    "            # Konflik waktu untuk dosen\n",
    "            if (jadwal1[\"dosen\"] == jadwal2[\"dosen\"] and\n",
    "                jadwal1[\"waktu\"] == jadwal2[\"waktu\"] and\n",
    "                jadwal1[\"hari\"] == jadwal2[\"hari\"]):\n",
    "                konflik += 1\n",
    "            # Konflik waktu untuk kelas\n",
    "            if (jadwal1[\"kelas\"] == jadwal2[\"kelas\"] and\n",
    "                jadwal1[\"waktu\"] == jadwal2[\"waktu\"] and\n",
    "                jadwal1[\"hari\"] == jadwal2[\"hari\"]):\n",
    "                konflik += 1\n",
    "            # Konflik waktu untuk ruang\n",
    "            if (jadwal1[\"kelas\"] == jadwal2[\"kelas\"] and\n",
    "                jadwal1[\"waktu\"] == jadwal2[\"waktu\"] and\n",
    "                jadwal1[\"hari\"] == jadwal2[\"hari\"]):\n",
    "                konflik += 1\n",
    "    return -konflik"
   ]
  },
  {
   "cell_type": "code",
   "execution_count": 7,
   "metadata": {},
   "outputs": [],
   "source": [
    "# Seleksi (roulette wheel selection)\n",
    "def seleksi(populasi):\n",
    "    fitness_total = sum(evaluasi_fitness(individu) for individu in populasi)\n",
    "    probabilitas = [\n",
    "        (evaluasi_fitness(individu) / fitness_total) for individu in populasi\n",
    "    ]\n",
    "    return random.choices(populasi, weights=probabilitas, k=2)\n"
   ]
  },
  {
   "cell_type": "code",
   "execution_count": 8,
   "metadata": {},
   "outputs": [],
   "source": [
    "# Crossover (pertukaran bagian individu)\n",
    "def crossover(parent1, parent2):\n",
    "    point = random.randint(1, len(parent1) - 1)\n",
    "    child1 = parent1[:point] + parent2[point:]\n",
    "    child2 = parent2[:point] + parent1[point:]\n",
    "    return child1, child2"
   ]
  },
  {
   "cell_type": "code",
   "execution_count": 9,
   "metadata": {},
   "outputs": [],
   "source": [
    "# Mutasi (modifikasi kecil pada individu)\n",
    "def mutasi(individu):\n",
    "    if random.random() < MUTASI_RATE:\n",
    "        indeks = random.randint(0, len(individu) - 1)\n",
    "        individu[indeks][\"waktu\"] = random.choice(WAKTU)\n",
    "    return individu"
   ]
  },
  {
   "cell_type": "code",
   "execution_count": 10,
   "metadata": {},
   "outputs": [],
   "source": [
    "# Algoritma Genetika\n",
    "def algoritma_genetika():\n",
    "    populasi = [buat_individu() for _ in range(POPULASI_SIZE)]\n",
    "    for generasi in range(GENERASI_MAX):\n",
    "        populasi = sorted(populasi, key=evaluasi_fitness, reverse=True)\n",
    "        if evaluasi_fitness(populasi[0]) == 0:  # Solusi optimal ditemukan\n",
    "            break\n",
    "        next_gen = []\n",
    "        while len(next_gen) < POPULASI_SIZE:\n",
    "            parent1, parent2 = seleksi(populasi)\n",
    "            child1, child2 = crossover(parent1, parent2)\n",
    "            next_gen.append(mutasi(child1))\n",
    "            next_gen.append(mutasi(child2))\n",
    "        populasi = next_gen\n",
    "        print(f\"Generasi {generasi + 1}: Fitness terbaik = {evaluasi_fitness(populasi[0])}\")\n",
    "    return populasi[0]\n"
   ]
  },
  {
   "cell_type": "code",
   "execution_count": 11,
   "metadata": {},
   "outputs": [],
   "source": [
    "# Menjalankan algoritma\n",
    "jadwal_terbaik = algoritma_genetika()"
   ]
  },
  {
   "cell_type": "code",
   "execution_count": 12,
   "metadata": {},
   "outputs": [
    {
     "name": "stdout",
     "output_type": "stream",
     "text": [
      "{'dosen': 'Tri Budi Santoso', 'kelas': 'PS-03.17', 'pelajaran': 'Kecerdasan Buatan', 'waktu': '10:30 sd 12:10', 'hari': 'Kamis'}\n",
      "{'dosen': 'Firman Arifin', 'kelas': 'PS-03.17', 'pelajaran': 'Sinyal dan Sistem', 'waktu': '15:40 sd 16:30', 'hari': 'Selasa'}\n",
      "{'dosen': 'Firman Arifin', 'kelas': 'PS-08.07', 'pelajaran': 'Praktikum Pembelajaran dan Perhitungan Evolusioner', 'waktu': '13:10 sd 15:40', 'hari': 'Selasa'}\n",
      "{'dosen': 'Riyanto Sigit', 'kelas': 'PS-03.17', 'pelajaran': 'Kecerdasan Buatan', 'waktu': '08:00 sd 09:40', 'hari': 'Selasa'}\n",
      "{'dosen': 'Riyanto Sigit', 'kelas': 'PS-03.17', 'pelajaran': 'Metodologi Riset dan Penulisan Ilmiah', 'waktu': '08:00 sd 09:40', 'hari': 'Senin'}\n",
      "{'dosen': 'Firman Arifin', 'kelas': 'PS-08.07', 'pelajaran': 'Pembelajaran dan Perhitungan Evolusioner', 'waktu': '08:00 sd 09:40', 'hari': 'Rabu'}\n",
      "{'dosen': 'Iwan Syarif', 'kelas': 'PS-08.07', 'pelajaran': 'Kecerdasan Buatan', 'waktu': '08:00 sd 09:40', 'hari': 'Jumat'}\n",
      "{'dosen': 'Aliridho Barakbah', 'kelas': 'PS-03.17', 'pelajaran': 'Kecerdasan Buatan', 'waktu': '10:30 sd 12:10', 'hari': 'Senin'}\n",
      "{'dosen': 'Riyanto Sigit', 'kelas': 'PS-03.17', 'pelajaran': 'Metodologi Riset dan Penulisan Ilmiah', 'waktu': '09:40 sd 10:30', 'hari': 'Selasa'}\n",
      "{'dosen': 'Firman Arifin', 'kelas': 'PS-08.07', 'pelajaran': 'Kecerdasan Buatan', 'waktu': '09:40 sd 10:30', 'hari': 'Kamis'}\n",
      "{'dosen': 'Aliridho Barakbah', 'kelas': 'PS-08.07', 'pelajaran': 'Komunikasi dan Jaringan Komputer', 'waktu': '13:10 sd 15:40', 'hari': 'Kamis'}\n",
      "{'dosen': 'Riyanto Sigit', 'kelas': 'PS-08.07', 'pelajaran': 'Pembelajaran dan Perhitungan Evolusioner', 'waktu': '09:40 sd 10:30', 'hari': 'Rabu'}\n"
     ]
    }
   ],
   "source": [
    "# Output jadwal terbaik\n",
    "for jadwal in jadwal_terbaik:\n",
    "    print(jadwal)"
   ]
  },
  {
   "cell_type": "code",
   "execution_count": 13,
   "metadata": {},
   "outputs": [
    {
     "name": "stdout",
     "output_type": "stream",
     "text": [
      "            dosen    kelas                                          pelajaran          waktu   hari\n",
      "      Iwan Syarif PS-08.07                                  Kecerdasan Buatan 08:00 sd 09:40  Jumat\n",
      "    Firman Arifin PS-08.07                                  Kecerdasan Buatan 09:40 sd 10:30  Kamis\n",
      " Tri Budi Santoso PS-03.17                                  Kecerdasan Buatan 10:30 sd 12:10  Kamis\n",
      "Aliridho Barakbah PS-08.07                   Komunikasi dan Jaringan Komputer 13:10 sd 15:40  Kamis\n",
      "    Firman Arifin PS-08.07           Pembelajaran dan Perhitungan Evolusioner 08:00 sd 09:40   Rabu\n",
      "    Riyanto Sigit PS-08.07           Pembelajaran dan Perhitungan Evolusioner 09:40 sd 10:30   Rabu\n",
      "    Riyanto Sigit PS-03.17                                  Kecerdasan Buatan 08:00 sd 09:40 Selasa\n",
      "    Riyanto Sigit PS-03.17              Metodologi Riset dan Penulisan Ilmiah 09:40 sd 10:30 Selasa\n",
      "    Firman Arifin PS-08.07 Praktikum Pembelajaran dan Perhitungan Evolusioner 13:10 sd 15:40 Selasa\n",
      "    Firman Arifin PS-03.17                                  Sinyal dan Sistem 15:40 sd 16:30 Selasa\n",
      "    Riyanto Sigit PS-03.17              Metodologi Riset dan Penulisan Ilmiah 08:00 sd 09:40  Senin\n",
      "Aliridho Barakbah PS-03.17                                  Kecerdasan Buatan 10:30 sd 12:10  Senin\n"
     ]
    }
   ],
   "source": [
    "import pandas as pd\n",
    "\n",
    "# Mengonversi ke DataFrame untuk tabel\n",
    "df = pd.DataFrame(jadwal_terbaik)\n",
    "sorted_df = df.sort_values(by=['hari', 'waktu', 'kelas'])\n",
    "# Output sebagai tabel\n",
    "print(sorted_df.to_string(index=False))\n"
   ]
  }
 ],
 "metadata": {
  "kernelspec": {
   "display_name": "Python 3",
   "language": "python",
   "name": "python3"
  },
  "language_info": {
   "codemirror_mode": {
    "name": "ipython",
    "version": 3
   },
   "file_extension": ".py",
   "mimetype": "text/x-python",
   "name": "python",
   "nbconvert_exporter": "python",
   "pygments_lexer": "ipython3",
   "version": "3.11.3"
  }
 },
 "nbformat": 4,
 "nbformat_minor": 2
}
